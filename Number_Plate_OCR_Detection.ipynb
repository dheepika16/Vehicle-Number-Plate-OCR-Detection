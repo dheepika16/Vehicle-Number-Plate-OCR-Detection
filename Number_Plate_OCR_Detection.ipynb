{
  "nbformat": 4,
  "nbformat_minor": 0,
  "metadata": {
    "colab": {
      "name": "Number Plate OCR Detection.ipynb",
      "version": "0.3.2",
      "provenance": [],
      "collapsed_sections": [],
      "include_colab_link": true
    },
    "kernelspec": {
      "name": "python3",
      "display_name": "Python 3"
    },
    "accelerator": "GPU"
  },
  "cells": [
    {
      "cell_type": "markdown",
      "metadata": {
        "id": "view-in-github",
        "colab_type": "text"
      },
      "source": [
        "<a href=\"https://colab.research.google.com/github/dheepika16/Vehicle-Number-Plate-OCR-Detection/blob/master/Number_Plate_OCR_Detection.ipynb\" target=\"_parent\"><img src=\"https://colab.research.google.com/assets/colab-badge.svg\" alt=\"Open In Colab\"/></a>"
      ]
    },
    {
      "cell_type": "code",
      "metadata": {
        "id": "K_GVpRknLO0a",
        "colab_type": "code",
        "colab": {}
      },
      "source": [
        "import requests\n",
        "import random\n",
        "import numpy as np\n",
        "import pandas as pd \n",
        "from tqdm import tqdm\n",
        "from PIL import Image\n",
        "import matplotlib.pyplot as plt\n",
        "import urllib\n",
        "import cv2"
      ],
      "execution_count": 0,
      "outputs": []
    },
    {
      "cell_type": "code",
      "metadata": {
        "id": "usD9WqCQLSFq",
        "colab_type": "code",
        "colab": {}
      },
      "source": [
        "import json\n",
        "data = pd.read_json('Indian_Number_plates.json', lines=True)\n",
        "pd.set_option('display.max_colwidth', -1)\n",
        "del data['extras']\n",
        "data['points'] = data.apply(lambda row: row['annotation'][0]['points'], axis=1)\n",
        "del data['annotation']"
      ],
      "execution_count": 0,
      "outputs": []
    },
    {
      "cell_type": "code",
      "metadata": {
        "id": "8RFUTRpkLlju",
        "colab_type": "code",
        "colab": {}
      },
      "source": [
        "Images = []\n",
        "Plates = []\n",
        "\n",
        "def downloadTraining(df):\n",
        "\n",
        "    for index, row in df.iterrows():\n",
        "\n",
        "        resp = urllib.request.urlopen(row[0])\n",
        "        im = np.array(Image.open(resp))\n",
        "        Images.append(im)  \n",
        "        x_point_top = row[1][0]['x']*im.shape[1]\n",
        "        y_point_top = row[1][0]['y']*im.shape[0]\n",
        "        x_point_bot = row[1][1]['x']*im.shape[1]\n",
        "        y_point_bot = row[1][1]['y']*im.shape[0]\n",
        "        carImage = Image.fromarray(im)\n",
        "        plateImage = carImage.crop((x_point_top, y_point_top, x_point_bot, y_point_bot))\n",
        "        Plates.append(np.array(plateImage))     \n",
        "       \n",
        "        \n"
      ],
      "execution_count": 0,
      "outputs": []
    },
    {
      "cell_type": "code",
      "metadata": {
        "id": "FVIFlqvmLpf5",
        "colab_type": "code",
        "colab": {}
      },
      "source": [
        "downloadTraining(data)"
      ],
      "execution_count": 0,
      "outputs": []
    },
    {
      "cell_type": "code",
      "metadata": {
        "id": "SshaV506LtvL",
        "colab_type": "code",
        "colab": {}
      },
      "source": [
        "import matplotlib.pyplot as plt\n",
        "import matplotlib.patches as patches\n",
        "\n",
        "fig, ax = plt.subplots(2,1, constrained_layout=True)\n",
        "ax[0].set_title('input Image')\n",
        "ax[1].set_title('Output Image')\n",
        "ax[0].imshow(Images[71])\n",
        "ax[1].imshow(Plates[71])\n",
        "plt.savefig( \"test.png\")\n",
        "plt.show()\n"
      ],
      "execution_count": 0,
      "outputs": []
    },
    {
      "cell_type": "code",
      "metadata": {
        "id": "aMtFUJFEXwUV",
        "colab_type": "code",
        "colab": {}
      },
      "source": [
        "import os\n",
        "print( os.getcwd() )\n",
        "print( os.listdir() )"
      ],
      "execution_count": 0,
      "outputs": []
    },
    {
      "cell_type": "code",
      "metadata": {
        "id": "qLN2aZvlX5jh",
        "colab_type": "code",
        "colab": {}
      },
      "source": [
        "from google.colab import files\n",
        "files.download( \"test.png\" )   "
      ],
      "execution_count": 0,
      "outputs": []
    },
    {
      "cell_type": "code",
      "metadata": {
        "id": "tZ99lD0EN7fk",
        "colab_type": "code",
        "colab": {}
      },
      "source": [
        "!sudo apt install tesseract-ocr\n",
        "!pip install pytesseract"
      ],
      "execution_count": 0,
      "outputs": []
    },
    {
      "cell_type": "code",
      "metadata": {
        "colab_type": "code",
        "id": "8YhI3AbmVcOh",
        "colab": {}
      },
      "source": [
        "from google.colab import files\n",
        "uploaded = files.upload()"
      ],
      "execution_count": 0,
      "outputs": []
    },
    {
      "cell_type": "code",
      "metadata": {
        "id": "SXPOLd6h5gU8",
        "colab_type": "code",
        "colab": {}
      },
      "source": [
        "from PIL import Image\n",
        "from pytesseract import image_to_string\n",
        "img=Image.open('dheepik.png')\n",
        "a=image_to_string(img)\n",
        "print(a)"
      ],
      "execution_count": 0,
      "outputs": []
    }
  ]
}